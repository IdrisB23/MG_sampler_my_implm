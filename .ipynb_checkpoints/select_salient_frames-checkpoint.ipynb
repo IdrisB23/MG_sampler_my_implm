{
 "cells": [
  {
   "cell_type": "code",
   "execution_count": 27,
   "metadata": {},
   "outputs": [],
   "source": [
    "import numpy as np\n",
    "import torch\n",
    "from torch import tensor, Tensor\n",
    "from torchvision import transforms\n",
    "import torchvision.transforms.functional as F\n",
    "from PIL import Image\n",
    "from pathlib import Path\n",
    "from IPython.display import display\n",
    "import matplotlib.pyplot as plt\n",
    "import random\n",
    "\n",
    "NB_FRAMES = 49\n",
    "MUE = 0.5\n",
    "NB_FRAMES_TB_SAMPLED = 13"
   ]
  },
  {
   "cell_type": "code",
   "execution_count": 8,
   "metadata": {},
   "outputs": [],
   "source": [
    "# both images are grayscale\n",
    "def compute_grascale_image_level_diff(img1_gray: Tensor, img2_gray: Tensor) -> Tensor:\n",
    "    return torch.abs(img1_gray - img2_gray)"
   ]
  },
  {
   "cell_type": "code",
   "execution_count": 9,
   "metadata": {},
   "outputs": [],
   "source": [
    "def normalize_L1(tensor: Tensor) -> Tensor:\n",
    "    L1_norm = torch.abs(tensor).sum()\n",
    "    return tensor / L1_norm"
   ]
  },
  {
   "cell_type": "code",
   "execution_count": 11,
   "metadata": {},
   "outputs": [
    {
     "name": "stdout",
     "output_type": "stream",
     "text": [
      "tensor([0.0000, 0.0019, 0.0042, 0.0052, 0.0103, 0.0143, 0.0167, 0.0193, 0.0208,\n",
      "        0.0241, 0.0287, 0.0314, 0.0291, 0.0309, 0.0305, 0.0254, 0.0240, 0.0276,\n",
      "        0.0290, 0.0331, 0.0353, 0.0345, 0.0326, 0.0319, 0.0314, 0.0323, 0.0308,\n",
      "        0.0270, 0.0248, 0.0235, 0.0246, 0.0243, 0.0218, 0.0189, 0.0185, 0.0173,\n",
      "        0.0163, 0.0154, 0.0194, 0.0187, 0.0164, 0.0158, 0.0149, 0.0106, 0.0108,\n",
      "        0.0095, 0.0074, 0.0041, 0.0047], dtype=torch.float64)\n"
     ]
    }
   ],
   "source": [
    "sampled_frames_dir = Path('sampled_frames')\n",
    "orig_frames_dir = sampled_frames_dir / 'orig'\n",
    "\n",
    "pil_2_tensor = transforms.ToTensor()\n",
    "tensor_2_pil = transforms.ToPILImage()\n",
    "\n",
    "S = [0.0]\n",
    "\n",
    "for i in range(NB_FRAMES - 1):\n",
    "    img1_path = orig_frames_dir / 'frames_{:03d}.png'.format(i+1)\n",
    "    img2_path = orig_frames_dir / 'frames_{:03d}.png'.format(i+2)\n",
    "    img1 = Image.open(img1_path)\n",
    "    img2 = Image.open(img2_path)\n",
    "    grascale_img1 = img1.convert('L')\n",
    "    grascale_img2 = img2.convert('L')\n",
    "    \n",
    "    grascale_img1 = pil_2_tensor(grascale_img1)\n",
    "    grascale_img2 = pil_2_tensor(grascale_img2)\n",
    "    \n",
    "    gray_img_diff = compute_grascale_image_level_diff(grascale_img1, grascale_img2)\n",
    "    \n",
    "    S_i = torch.sum(gray_img_diff, dim=None)\n",
    "    S.append(S_i)\n",
    "    \n",
    "S = tensor(S, dtype=torch.float64)\n",
    "S = normalize_L1(S)\n",
    "print(S)"
   ]
  },
  {
   "cell_type": "code",
   "execution_count": 28,
   "metadata": {},
   "outputs": [
    {
     "data": {
      "image/png": "[encoded data removed]",
      "text/plain": [
       "<Figure size 640x480 with 1 Axes>"
      ]
     },
     "metadata": {},
     "output_type": "display_data"
    },
    {
     "name": "stdout",
     "output_type": "stream",
     "text": [
      "[(0.0, 0.07692307692307693), (0.07692307692307693, 0.15384615384615385), (0.15384615384615385, 0.23076923076923078), (0.23076923076923078, 0.3076923076923077), (0.3076923076923077, 0.38461538461538464), (0.38461538461538464, 0.46153846153846156), (0.46153846153846156, 0.5384615384615384), (0.5384615384615384, 0.6153846153846154), (0.6153846153846154, 0.6923076923076923), (0.6923076923076923, 0.7692307692307693), (0.7692307692307693, 0.8461538461538461), (0.8461538461538461, 0.9230769230769231), (0.9230769230769231, 1.0)]\n"
     ]
    }
   ],
   "source": [
    "def get_cdf_values(probs: Tensor) -> Tensor:\n",
    "    acc = [probs[0]]\n",
    "    for i in range(1, probs.shape[0]):\n",
    "        acc.append(acc[i-1] + probs[i])\n",
    "    acc = tensor(acc, dtype=torch.float64)\n",
    "    acc_MUE = torch.pow(acc, MUE)\n",
    "    acc_smoothed = acc_MUE / acc_MUE.sum()\n",
    "    return acc_MUE\n",
    "\n",
    "def display_cdf(cdf_vals: Tensor) -> None:\n",
    "    x_axis = range(1, NB_FRAMES+1)\n",
    "    y_axis = cdf_vals\n",
    "    plt.plot(x_axis, y_axis)\n",
    "    plt.show()\n",
    "    pass\n",
    "\n",
    "def divide_cdf_into_N_bins(N: int) -> list:\n",
    "    bins = []\n",
    "    for i in range(0, N):\n",
    "        bins.append((float(i/N), (float((i+1)/N))))\n",
    "    return bins\n",
    "\n",
    "def select_random_val_within_bin(bin: tuple) -> float:\n",
    "    \n",
    "\n",
    "cdf_vals = get_cdf_values(S)\n",
    "frame_cdf_val_zipped = zip(range(1, NB_FRAMES+1), cdf_vals)\n",
    "frame_idx_to_cdf_val = dict(frame_cdf_val_zipped)\n",
    "cdf_val_to_frame_idx = dict((v, k) for (k, v) in frame_idx_to_cdf_val.items())\n",
    "display_cdf(cdf_vals)\n",
    "bins = divide_cdf_into_N_bins(NB_FRAMES_TB_SAMPLED)\n",
    "print(bins)"
   ]
  },
  {
   "cell_type": "code",
   "execution_count": null,
   "metadata": {},
   "outputs": [],
   "source": []
  }
 ],
 "metadata": {
  "kernelspec": {
   "display_name": "multi-box_ssd",
   "language": "python",
   "name": "multi-box_ssd"
  },
  "language_info": {
   "codemirror_mode": {
    "name": "ipython",
    "version": 3
   },
   "file_extension": ".py",
   "mimetype": "text/x-python",
   "name": "python",
   "nbconvert_exporter": "python",
   "pygments_lexer": "ipython3",
   "version": "3.9.0"
  }
 },
 "nbformat": 4,
 "nbformat_minor": 2
}
